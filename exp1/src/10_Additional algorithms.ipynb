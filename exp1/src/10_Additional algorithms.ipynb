{
 "cells": [
  {
   "cell_type": "markdown",
   "metadata": {},
   "source": [
    "## Summary\n",
    "We're going to fit the bisecting kmeans and other flat geometries algorithms that are missing in R."
   ]
  },
  {
   "cell_type": "code",
   "execution_count": 64,
   "metadata": {},
   "outputs": [
    {
     "name": "stdout",
     "output_type": "stream",
     "text": [
      "Libraries imported\n",
      "Config file loaded\n"
     ]
    }
   ],
   "source": [
    "import os\n",
    "import pandas as pd\n",
    "import numpy as np\n",
    "import matplotlib.pyplot as plt\n",
    "from sklearn.cluster import BisectingKMeans\n",
    "from sklearn.decomposition import PCA\n",
    "print(\"Libraries imported\")\n",
    "\n",
    "# import configuration file\n",
    "from omegaconf import OmegaConf\n",
    "conf = OmegaConf.load(r'E:/ppmi/exp1/config/config py.yaml')\n",
    "print(\"Config file loaded\")"
   ]
  },
  {
   "cell_type": "markdown",
   "metadata": {},
   "source": [
    "## Data Import"
   ]
  },
  {
   "cell_type": "code",
   "execution_count": 18,
   "metadata": {},
   "outputs": [
    {
     "data": {
      "text/html": [
       "<div>\n",
       "<style scoped>\n",
       "    .dataframe tbody tr th:only-of-type {\n",
       "        vertical-align: middle;\n",
       "    }\n",
       "\n",
       "    .dataframe tbody tr th {\n",
       "        vertical-align: top;\n",
       "    }\n",
       "\n",
       "    .dataframe thead th {\n",
       "        text-align: right;\n",
       "    }\n",
       "</style>\n",
       "<table border=\"1\" class=\"dataframe\">\n",
       "  <thead>\n",
       "    <tr style=\"text-align: right;\">\n",
       "      <th></th>\n",
       "      <th>ENSG00000278757.1</th>\n",
       "      <th>ENSG00000177757.2</th>\n",
       "      <th>ENSG00000234711.1</th>\n",
       "      <th>ENSG00000223764.2</th>\n",
       "      <th>ENSG00000187634.11</th>\n",
       "      <th>ENSG00000187642.9</th>\n",
       "      <th>ENSG00000205231.1</th>\n",
       "      <th>ENSG00000179403.11</th>\n",
       "      <th>ENSG00000234396.3</th>\n",
       "      <th>ENSG00000224387.1</th>\n",
       "      <th>...</th>\n",
       "      <th>ENSG00000280969.1</th>\n",
       "      <th>ENSG00000169789.10</th>\n",
       "      <th>ENSG00000279274.2</th>\n",
       "      <th>ENSG00000210049.1</th>\n",
       "      <th>ENSG00000278704.1</th>\n",
       "      <th>ENSG00000275987.1</th>\n",
       "      <th>ENSG00000277475.1</th>\n",
       "      <th>ENSG00000275063.1</th>\n",
       "      <th>ENSG00000276700.1</th>\n",
       "      <th>ENSG00000275757.1</th>\n",
       "    </tr>\n",
       "  </thead>\n",
       "  <tbody>\n",
       "    <tr>\n",
       "      <th>0</th>\n",
       "      <td>1.302298</td>\n",
       "      <td>-1.138466</td>\n",
       "      <td>0.065775</td>\n",
       "      <td>-0.971640</td>\n",
       "      <td>-1.330496</td>\n",
       "      <td>-1.295955</td>\n",
       "      <td>0.229058</td>\n",
       "      <td>0.022169</td>\n",
       "      <td>0.154600</td>\n",
       "      <td>0.406714</td>\n",
       "      <td>...</td>\n",
       "      <td>-1.132983</td>\n",
       "      <td>-0.986817</td>\n",
       "      <td>-1.009429</td>\n",
       "      <td>0.204119</td>\n",
       "      <td>0.490124</td>\n",
       "      <td>0.583350</td>\n",
       "      <td>-1.011378</td>\n",
       "      <td>-0.452505</td>\n",
       "      <td>-1.274854</td>\n",
       "      <td>-0.962496</td>\n",
       "    </tr>\n",
       "    <tr>\n",
       "      <th>1</th>\n",
       "      <td>0.911781</td>\n",
       "      <td>0.585626</td>\n",
       "      <td>0.320165</td>\n",
       "      <td>0.640209</td>\n",
       "      <td>0.291987</td>\n",
       "      <td>0.664009</td>\n",
       "      <td>0.671894</td>\n",
       "      <td>0.729818</td>\n",
       "      <td>0.933728</td>\n",
       "      <td>-0.943683</td>\n",
       "      <td>...</td>\n",
       "      <td>0.640029</td>\n",
       "      <td>0.716781</td>\n",
       "      <td>-1.009429</td>\n",
       "      <td>0.148173</td>\n",
       "      <td>-0.966878</td>\n",
       "      <td>-1.002082</td>\n",
       "      <td>0.025712</td>\n",
       "      <td>-0.505232</td>\n",
       "      <td>0.786428</td>\n",
       "      <td>0.331597</td>\n",
       "    </tr>\n",
       "    <tr>\n",
       "      <th>2</th>\n",
       "      <td>-0.217694</td>\n",
       "      <td>1.402457</td>\n",
       "      <td>1.349388</td>\n",
       "      <td>1.488936</td>\n",
       "      <td>1.273137</td>\n",
       "      <td>1.294217</td>\n",
       "      <td>1.296287</td>\n",
       "      <td>1.116802</td>\n",
       "      <td>1.357329</td>\n",
       "      <td>1.385357</td>\n",
       "      <td>...</td>\n",
       "      <td>0.670345</td>\n",
       "      <td>0.489256</td>\n",
       "      <td>0.757250</td>\n",
       "      <td>-1.003364</td>\n",
       "      <td>1.626029</td>\n",
       "      <td>1.531725</td>\n",
       "      <td>1.846509</td>\n",
       "      <td>0.911878</td>\n",
       "      <td>0.904955</td>\n",
       "      <td>-0.962496</td>\n",
       "    </tr>\n",
       "    <tr>\n",
       "      <th>3</th>\n",
       "      <td>-0.464848</td>\n",
       "      <td>0.171568</td>\n",
       "      <td>-0.066254</td>\n",
       "      <td>-0.971640</td>\n",
       "      <td>-0.118448</td>\n",
       "      <td>-1.295955</td>\n",
       "      <td>-0.181662</td>\n",
       "      <td>-1.229233</td>\n",
       "      <td>0.339601</td>\n",
       "      <td>0.817482</td>\n",
       "      <td>...</td>\n",
       "      <td>-1.132983</td>\n",
       "      <td>-0.986817</td>\n",
       "      <td>-1.009429</td>\n",
       "      <td>-1.003364</td>\n",
       "      <td>-0.966878</td>\n",
       "      <td>-1.002082</td>\n",
       "      <td>-1.011378</td>\n",
       "      <td>0.785261</td>\n",
       "      <td>-1.274854</td>\n",
       "      <td>0.587492</td>\n",
       "    </tr>\n",
       "    <tr>\n",
       "      <th>4</th>\n",
       "      <td>1.015721</td>\n",
       "      <td>0.342817</td>\n",
       "      <td>0.408266</td>\n",
       "      <td>-0.971640</td>\n",
       "      <td>-0.381368</td>\n",
       "      <td>-1.295955</td>\n",
       "      <td>-0.037360</td>\n",
       "      <td>-0.221378</td>\n",
       "      <td>-1.145969</td>\n",
       "      <td>1.524685</td>\n",
       "      <td>...</td>\n",
       "      <td>0.899301</td>\n",
       "      <td>0.605271</td>\n",
       "      <td>-1.009429</td>\n",
       "      <td>-1.003364</td>\n",
       "      <td>0.206563</td>\n",
       "      <td>0.424199</td>\n",
       "      <td>0.393163</td>\n",
       "      <td>-0.705145</td>\n",
       "      <td>-1.274854</td>\n",
       "      <td>-0.962496</td>\n",
       "    </tr>\n",
       "  </tbody>\n",
       "</table>\n",
       "<p>5 rows × 4646 columns</p>\n",
       "</div>"
      ],
      "text/plain": [
       "   ENSG00000278757.1  ENSG00000177757.2  ENSG00000234711.1  ENSG00000223764.2  \\\n",
       "0           1.302298          -1.138466           0.065775          -0.971640   \n",
       "1           0.911781           0.585626           0.320165           0.640209   \n",
       "2          -0.217694           1.402457           1.349388           1.488936   \n",
       "3          -0.464848           0.171568          -0.066254          -0.971640   \n",
       "4           1.015721           0.342817           0.408266          -0.971640   \n",
       "\n",
       "   ENSG00000187634.11  ENSG00000187642.9  ENSG00000205231.1  \\\n",
       "0           -1.330496          -1.295955           0.229058   \n",
       "1            0.291987           0.664009           0.671894   \n",
       "2            1.273137           1.294217           1.296287   \n",
       "3           -0.118448          -1.295955          -0.181662   \n",
       "4           -0.381368          -1.295955          -0.037360   \n",
       "\n",
       "   ENSG00000179403.11  ENSG00000234396.3  ENSG00000224387.1  ...  \\\n",
       "0            0.022169           0.154600           0.406714  ...   \n",
       "1            0.729818           0.933728          -0.943683  ...   \n",
       "2            1.116802           1.357329           1.385357  ...   \n",
       "3           -1.229233           0.339601           0.817482  ...   \n",
       "4           -0.221378          -1.145969           1.524685  ...   \n",
       "\n",
       "   ENSG00000280969.1  ENSG00000169789.10  ENSG00000279274.2  \\\n",
       "0          -1.132983           -0.986817          -1.009429   \n",
       "1           0.640029            0.716781          -1.009429   \n",
       "2           0.670345            0.489256           0.757250   \n",
       "3          -1.132983           -0.986817          -1.009429   \n",
       "4           0.899301            0.605271          -1.009429   \n",
       "\n",
       "   ENSG00000210049.1  ENSG00000278704.1  ENSG00000275987.1  ENSG00000277475.1  \\\n",
       "0           0.204119           0.490124           0.583350          -1.011378   \n",
       "1           0.148173          -0.966878          -1.002082           0.025712   \n",
       "2          -1.003364           1.626029           1.531725           1.846509   \n",
       "3          -1.003364          -0.966878          -1.002082          -1.011378   \n",
       "4          -1.003364           0.206563           0.424199           0.393163   \n",
       "\n",
       "   ENSG00000275063.1  ENSG00000276700.1  ENSG00000275757.1  \n",
       "0          -0.452505          -1.274854          -0.962496  \n",
       "1          -0.505232           0.786428           0.331597  \n",
       "2           0.911878           0.904955          -0.962496  \n",
       "3           0.785261          -1.274854           0.587492  \n",
       "4          -0.705145          -1.274854          -0.962496  \n",
       "\n",
       "[5 rows x 4646 columns]"
      ]
     },
     "execution_count": 18,
     "metadata": {},
     "output_type": "execute_result"
    }
   ],
   "source": [
    "counts = pd.read_csv(conf.additionalClustering.countPath, sep = \"\\t\")\n",
    "counts.head()"
   ]
  },
  {
   "cell_type": "markdown",
   "metadata": {},
   "source": [
    "## Fitting"
   ]
  },
  {
   "cell_type": "code",
   "execution_count": 40,
   "metadata": {},
   "outputs": [
    {
     "name": "stderr",
     "output_type": "stream",
     "text": [
      "c:\\Users\\LAB401\\anaconda3\\envs\\clustering\\lib\\site-packages\\sklearn\\cluster\\_bisect_k_means.py:259: UserWarning: BisectingKMeans is known to have a memory leak on Windows with MKL, when there are less chunks than available threads. You can avoid it by setting the environment variable OMP_NUM_THREADS=3.\n",
      "  warnings.warn(\n"
     ]
    }
   ],
   "source": [
    "bisect_means = BisectingKMeans(n_clusters=2, random_state=42).fit(counts)\n",
    "\n",
    "# extract the labels\n",
    "labels = bisect_means.labels_"
   ]
  },
  {
   "cell_type": "markdown",
   "metadata": {},
   "source": [
    "## PCA for data visualization"
   ]
  },
  {
   "cell_type": "code",
   "execution_count": 35,
   "metadata": {},
   "outputs": [
    {
     "name": "stdout",
     "output_type": "stream",
     "text": [
      "[0.59341836 0.01253965]\n",
      "[1252.49564466  182.07004115]\n"
     ]
    }
   ],
   "source": [
    "pca = PCA(n_components=2)\n",
    "pca_object = pca.fit_transform(counts)\n",
    "print(pca.explained_variance_ratio_)\n",
    "print(pca.singular_values_)"
   ]
  },
  {
   "cell_type": "code",
   "execution_count": 41,
   "metadata": {},
   "outputs": [
    {
     "data": {
      "text/html": [
       "<div>\n",
       "<style scoped>\n",
       "    .dataframe tbody tr th:only-of-type {\n",
       "        vertical-align: middle;\n",
       "    }\n",
       "\n",
       "    .dataframe tbody tr th {\n",
       "        vertical-align: top;\n",
       "    }\n",
       "\n",
       "    .dataframe thead th {\n",
       "        text-align: right;\n",
       "    }\n",
       "</style>\n",
       "<table border=\"1\" class=\"dataframe\">\n",
       "  <thead>\n",
       "    <tr style=\"text-align: right;\">\n",
       "      <th></th>\n",
       "      <th>principal component 1</th>\n",
       "      <th>principal component 2</th>\n",
       "      <th>labels</th>\n",
       "    </tr>\n",
       "  </thead>\n",
       "  <tbody>\n",
       "    <tr>\n",
       "      <th>0</th>\n",
       "      <td>-45.580504</td>\n",
       "      <td>5.959760</td>\n",
       "      <td>0</td>\n",
       "    </tr>\n",
       "    <tr>\n",
       "      <th>1</th>\n",
       "      <td>7.646282</td>\n",
       "      <td>-8.753553</td>\n",
       "      <td>0</td>\n",
       "    </tr>\n",
       "    <tr>\n",
       "      <th>2</th>\n",
       "      <td>91.441111</td>\n",
       "      <td>2.482751</td>\n",
       "      <td>1</td>\n",
       "    </tr>\n",
       "    <tr>\n",
       "      <th>3</th>\n",
       "      <td>-38.493640</td>\n",
       "      <td>3.721719</td>\n",
       "      <td>0</td>\n",
       "    </tr>\n",
       "    <tr>\n",
       "      <th>4</th>\n",
       "      <td>-40.457636</td>\n",
       "      <td>1.310597</td>\n",
       "      <td>0</td>\n",
       "    </tr>\n",
       "  </tbody>\n",
       "</table>\n",
       "</div>"
      ],
      "text/plain": [
       "   principal component 1  principal component 2  labels\n",
       "0             -45.580504               5.959760       0\n",
       "1               7.646282              -8.753553       0\n",
       "2              91.441111               2.482751       1\n",
       "3             -38.493640               3.721719       0\n",
       "4             -40.457636               1.310597       0"
      ]
     },
     "execution_count": 41,
     "metadata": {},
     "output_type": "execute_result"
    }
   ],
   "source": [
    "finalDf = pd.DataFrame(data = pca_object,\n",
    "             columns = ['principal component 1',\n",
    "                        'principal component 2'])\n",
    "\n",
    "finalDf[\"labels\"] = labels\n",
    "finalDf.head()"
   ]
  },
  {
   "cell_type": "code",
   "execution_count": 66,
   "metadata": {},
   "outputs": [
    {
     "data": {
      "text/plain": [
       "Text(0, 0.5, 'Dimension 2 (1.0%)')"
      ]
     },
     "execution_count": 66,
     "metadata": {},
     "output_type": "execute_result"
    },
    {
     "data": {
      "image/png": "[encoded data removed]",
      "text/plain": [
       "<Figure size 700x700 with 1 Axes>"
      ]
     },
     "metadata": {},
     "output_type": "display_data"
    }
   ],
   "source": [
    "## Visualize labels on pca\n",
    "plt.figure(figsize=(7,7))\n",
    "plt.scatter(finalDf['principal component 1'],\n",
    "            finalDf['principal component 2'],\n",
    "            c=finalDf['labels'],\n",
    "            cmap='prism',\n",
    "            s=5)\n",
    "plt.xlabel('Dimension 1' + \" (\" + str(np.round(pca.explained_variance_ratio_[0],2)*100) + \"%\"\")\")\n",
    "plt.ylabel('Dimension 2' + \" (\" + str(np.round(pca.explained_variance_ratio_[1],2)*100) + \"%\"\")\")"
   ]
  },
  {
   "cell_type": "markdown",
   "metadata": {},
   "source": [
    "## Export labels for internal metrics validation"
   ]
  },
  {
   "cell_type": "code",
   "execution_count": 67,
   "metadata": {},
   "outputs": [
    {
     "name": "stdout",
     "output_type": "stream",
     "text": [
      "Labels exported\n"
     ]
    }
   ],
   "source": [
    "np.savetxt(conf.additionalClustering.labelsPath, labels, delimiter = \",\")\n",
    "print('Labels exported')"
   ]
  }
 ],
 "metadata": {
  "kernelspec": {
   "display_name": "Python 3.9.12 ('clustering')",
   "language": "python",
   "name": "python3"
  },
  "language_info": {
   "codemirror_mode": {
    "name": "ipython",
    "version": 3
   },
   "file_extension": ".py",
   "mimetype": "text/x-python",
   "name": "python",
   "nbconvert_exporter": "python",
   "pygments_lexer": "ipython3",
   "version": "3.9.12"
  },
  "orig_nbformat": 4,
  "vscode": {
   "interpreter": {
    "hash": "8d028de2852b1ae16f681c1f0831428de37a5b3e37cc5a952eaecd3a057c7386"
   }
  }
 },
 "nbformat": 4,
 "nbformat_minor": 2
}
